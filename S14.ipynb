{
  "nbformat": 4,
  "nbformat_minor": 0,
  "metadata": {
    "kernelspec": {
      "display_name": "Python 3",
      "language": "python",
      "name": "python3"
    },
    "language_info": {
      "codemirror_mode": {
        "name": "ipython",
        "version": 3
      },
      "file_extension": ".py",
      "mimetype": "text/x-python",
      "name": "python",
      "nbconvert_exporter": "python",
      "pygments_lexer": "ipython3",
      "version": "3.9.5"
    },
    "colab": {
      "name": "S13.ipynb",
      "provenance": [],
      "collapsed_sections": []
    }
  },
  "cells": [
    {
      "cell_type": "markdown",
      "metadata": {
        "id": "f_Qql0lOygkY"
      },
      "source": [
        "# Assignment 13"
      ]
    },
    {
      "cell_type": "code",
      "metadata": {
        "id": "dV-DX1kNygkZ"
      },
      "source": [
        "from collections import namedtuple\n",
        "from datetime import datetime\n",
        "from dateutil import parser"
      ],
      "execution_count": 1,
      "outputs": []
    },
    {
      "cell_type": "code",
      "metadata": {
        "id": "-fV7tMrBygkZ"
      },
      "source": [
        "car_tuple = namedtuple(\"Vehcile_data\", \"Summons_Number Plate_ID Registration_State Plate_Type Issue_Date Violation_Code Vehicle_Body_Type Vehicle_Make Violation_Description\")"
      ],
      "execution_count": 2,
      "outputs": []
    },
    {
      "cell_type": "code",
      "metadata": {
        "id": "R-PyqE1Yygka"
      },
      "source": [
        "csv_path = \"nyc_parking_tickets_extract.csv\""
      ],
      "execution_count": 3,
      "outputs": []
    },
    {
      "cell_type": "markdown",
      "metadata": {
        "id": "ytruJh6Gygka"
      },
      "source": [
        "## Goal 1"
      ]
    },
    {
      "cell_type": "code",
      "metadata": {
        "id": "dj36cZgEygkb"
      },
      "source": [
        "def read_file(path):\n",
        "    with open(path) as f:\n",
        "        for i,j in enumerate(f):\n",
        "            if i == 0:\n",
        "                continue            \n",
        "            li = j.strip(\"\\n\").split(\",\")\n",
        "            li[4] = datetime.strptime(li[4], '%m/%d/%Y').date()\n",
        "            li[5] = int(li[5])\n",
        "            \n",
        "            try:\n",
        "                yield car_tuple(*li)\n",
        "            except:\n",
        "                pass"
      ],
      "execution_count": 4,
      "outputs": []
    },
    {
      "cell_type": "code",
      "metadata": {
        "id": "SkttrnB_ygkb"
      },
      "source": [
        "csv_tuples = read_file(csv_path)"
      ],
      "execution_count": 5,
      "outputs": []
    },
    {
      "cell_type": "code",
      "metadata": {
        "colab": {
          "base_uri": "https://localhost:8080/"
        },
        "id": "o_yEIjoiygkb",
        "outputId": "b884a0e0-abc6-46f2-ec54-c4deabe343f2"
      },
      "source": [
        "next(csv_tuples)"
      ],
      "execution_count": 6,
      "outputs": [
        {
          "output_type": "execute_result",
          "data": {
            "text/plain": [
              "Vehcile_data(Summons_Number='4006478550', Plate_ID='VAD7274', Registration_State='VA', Plate_Type='PAS', Issue_Date=datetime.date(2016, 10, 5), Violation_Code=5, Vehicle_Body_Type='4D', Vehicle_Make='BMW', Violation_Description='BUS LANE VIOLATION')"
            ]
          },
          "metadata": {
            "tags": []
          },
          "execution_count": 6
        }
      ]
    },
    {
      "cell_type": "code",
      "metadata": {
        "colab": {
          "base_uri": "https://localhost:8080/"
        },
        "id": "8gVwPrz0ygkc",
        "outputId": "ea11e7a4-8712-4a27-ac20-5dfd8588b1b7"
      },
      "source": [
        "next(csv_tuples)"
      ],
      "execution_count": 7,
      "outputs": [
        {
          "output_type": "execute_result",
          "data": {
            "text/plain": [
              "Vehcile_data(Summons_Number='4006462396', Plate_ID='22834JK', Registration_State='NY', Plate_Type='COM', Issue_Date=datetime.date(2016, 9, 30), Violation_Code=5, Vehicle_Body_Type='VAN', Vehicle_Make='CHEVR', Violation_Description='BUS LANE VIOLATION')"
            ]
          },
          "metadata": {
            "tags": []
          },
          "execution_count": 7
        }
      ]
    },
    {
      "cell_type": "code",
      "metadata": {
        "colab": {
          "base_uri": "https://localhost:8080/"
        },
        "id": "JHwX4mMIygkd",
        "outputId": "2a06bd8f-7dab-4888-9e78-d95f8b81454d"
      },
      "source": [
        "next(csv_tuples)"
      ],
      "execution_count": 8,
      "outputs": [
        {
          "output_type": "execute_result",
          "data": {
            "text/plain": [
              "Vehcile_data(Summons_Number='4007117810', Plate_ID='21791MG', Registration_State='NY', Plate_Type='COM', Issue_Date=datetime.date(2017, 4, 10), Violation_Code=5, Vehicle_Body_Type='VAN', Vehicle_Make='DODGE', Violation_Description='BUS LANE VIOLATION')"
            ]
          },
          "metadata": {
            "tags": []
          },
          "execution_count": 8
        }
      ]
    },
    {
      "cell_type": "code",
      "metadata": {
        "colab": {
          "base_uri": "https://localhost:8080/"
        },
        "id": "1_MTF00eygkd",
        "outputId": "2c1c9340-4a59-4dca-adf0-36581a7b0ffd"
      },
      "source": [
        "next(csv_tuples)"
      ],
      "execution_count": 9,
      "outputs": [
        {
          "output_type": "execute_result",
          "data": {
            "text/plain": [
              "Vehcile_data(Summons_Number='4006265037', Plate_ID='FZX9232', Registration_State='NY', Plate_Type='PAS', Issue_Date=datetime.date(2016, 8, 23), Violation_Code=5, Vehicle_Body_Type='SUBN', Vehicle_Make='FORD', Violation_Description='BUS LANE VIOLATION')"
            ]
          },
          "metadata": {
            "tags": []
          },
          "execution_count": 9
        }
      ]
    },
    {
      "cell_type": "code",
      "metadata": {
        "colab": {
          "base_uri": "https://localhost:8080/"
        },
        "id": "cUJwt935z079",
        "outputId": "da3b5fb8-7990-4fb3-a900-a17463a34ae8"
      },
      "source": [
        "next(csv_tuples)"
      ],
      "execution_count": 10,
      "outputs": [
        {
          "output_type": "execute_result",
          "data": {
            "text/plain": [
              "Vehcile_data(Summons_Number='4006535600', Plate_ID='N203399C', Registration_State='NY', Plate_Type='OMT', Issue_Date=datetime.date(2016, 10, 19), Violation_Code=5, Vehicle_Body_Type='SUBN', Vehicle_Make='FORD', Violation_Description='BUS LANE VIOLATION')"
            ]
          },
          "metadata": {
            "tags": []
          },
          "execution_count": 10
        }
      ]
    },
    {
      "cell_type": "markdown",
      "metadata": {
        "id": "SJb-oIemygke"
      },
      "source": [
        "## Goal 2"
      ]
    },
    {
      "cell_type": "code",
      "metadata": {
        "id": "G-Dy5k05ygke"
      },
      "source": [
        "car_tuples = read_file(csv_path)\n",
        "vehicle_violation_dict = dict()"
      ],
      "execution_count": 11,
      "outputs": []
    },
    {
      "cell_type": "code",
      "metadata": {
        "id": "yethSaHoygkf"
      },
      "source": [
        "for i in car_tuples:\n",
        "    brand = i.Vehicle_Make\n",
        "    if brand not in vehicle_violation_dict:\n",
        "        vehicle_violation_dict[brand] = 0\n",
        "    vehicle_violation_dict[brand] += 1"
      ],
      "execution_count": 12,
      "outputs": []
    },
    {
      "cell_type": "code",
      "metadata": {
        "colab": {
          "base_uri": "https://localhost:8080/"
        },
        "id": "dHBSuCCmygkf",
        "outputId": "e05b6848-58b8-41d5-eca1-707625d849ba"
      },
      "source": [
        "vehicle_violation_dict"
      ],
      "execution_count": 14,
      "outputs": [
        {
          "output_type": "execute_result",
          "data": {
            "text/plain": [
              "{'': 5,\n",
              " 'ACURA': 12,\n",
              " 'AM/T': 1,\n",
              " 'AUDI': 12,\n",
              " 'BMW': 34,\n",
              " 'BSA': 1,\n",
              " 'BUICK': 5,\n",
              " 'CADIL': 9,\n",
              " 'CHEVR': 76,\n",
              " 'CHRYS': 12,\n",
              " 'CITRO': 1,\n",
              " 'DODGE': 45,\n",
              " 'FIAT': 1,\n",
              " 'FIR': 1,\n",
              " 'FORD': 104,\n",
              " 'FRUEH': 44,\n",
              " 'GEO': 1,\n",
              " 'GMC': 35,\n",
              " 'GMCQ': 1,\n",
              " 'HIN': 6,\n",
              " 'HINO': 2,\n",
              " 'HONDA': 106,\n",
              " 'HYUND': 35,\n",
              " 'INFIN': 13,\n",
              " 'INTER': 24,\n",
              " 'ISUZU': 10,\n",
              " 'JAGUA': 3,\n",
              " 'JEEP': 22,\n",
              " 'KENWO': 5,\n",
              " 'KIA': 8,\n",
              " 'LEXUS': 26,\n",
              " 'LINCO': 12,\n",
              " 'MAZDA': 5,\n",
              " 'ME/BE': 38,\n",
              " 'MERCU': 4,\n",
              " 'MI/F': 1,\n",
              " 'MINI': 1,\n",
              " 'MITSU': 11,\n",
              " 'NISSA': 70,\n",
              " 'NS/OT': 18,\n",
              " 'OLDSM': 1,\n",
              " 'PETER': 1,\n",
              " 'PLYMO': 1,\n",
              " 'PONTI': 1,\n",
              " 'PORSC': 3,\n",
              " 'ROVER': 5,\n",
              " 'SAAB': 2,\n",
              " 'SATUR': 2,\n",
              " 'SCION': 2,\n",
              " 'SMART': 3,\n",
              " 'SPRI': 1,\n",
              " 'STAR': 1,\n",
              " 'SUBAR': 18,\n",
              " 'TOYOT': 112,\n",
              " 'UD': 1,\n",
              " 'UPS': 1,\n",
              " 'UTILI': 1,\n",
              " 'VOLKS': 8,\n",
              " 'VOLVO': 12,\n",
              " 'WORKH': 2,\n",
              " 'YAMAH': 1}"
            ]
          },
          "metadata": {
            "tags": []
          },
          "execution_count": 14
        }
      ]
    },
    {
      "cell_type": "code",
      "metadata": {
        "id": "bgYUx4xNzG3F"
      },
      "source": [
        ""
      ],
      "execution_count": null,
      "outputs": []
    }
  ]
}